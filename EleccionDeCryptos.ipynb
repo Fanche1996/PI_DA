{
 "cells": [
  {
   "cell_type": "markdown",
   "metadata": {},
   "source": [
    "Selección de Criptomonedas:\n",
    "Mi elección inicial de criptomonedas estará basada en los siguientes criterios:\n",
    "\n",
    "- Eliminare Las \"StableCoins\" porque considero que no son de interes para una inversion. \n",
    "\n",
    "- Eliminare los outliers de volatilidad alta, ya que presentan mayor riesgo.\n",
    "\n",
    "- Limitare los datos a las 30 cryptos con mayor capital de mercado. Esto hace que tengan mas \"espalda\" y las hace mas estables.\n",
    "\n",
    "- A partir de esto, para mi seleccion final primero voy a elejir las 5 cryptos con mayor market cap.\n",
    "\n",
    "- En segundo lugar, para mi seleccion final voy a elejir 3 cryptos con el mejor rendimiento el ultimo año.\n",
    "\n",
    "- Para las ultimas 2 de la seleccion final, voy a seleccionar las 2 cryptos con mayor market cap de las \"trending\". Es decir las mas buscadas en el ultimo tiempo.\n"
   ]
  },
  {
   "cell_type": "code",
   "execution_count": 50,
   "metadata": {},
   "outputs": [],
   "source": [
    "import pandas as pd\n",
    "import numpy as np\n",
    "import matplotlib.pyplot as plt\n",
    "import seaborn as sns\n",
    "import requests"
   ]
  },
  {
   "cell_type": "markdown",
   "metadata": {},
   "source": [
    "Obtenemos los datos de la API CoinGecko"
   ]
  },
  {
   "cell_type": "code",
   "execution_count": 70,
   "metadata": {},
   "outputs": [],
   "source": [
    "response = requests.get('https://api.coingecko.com/api/v3/coins/markets', params={\n",
    "    'vs_currency': 'usd',\n",
    "    'order': 'market_cap_desc',\n",
    "    'limit': 4000,\n",
    "    'sparkline': False,\n",
    "    'price_change_percentage': '1h,24h,7d,30d',\n",
    "    'market_volume': 'usd'\n",
    "})\n",
    "\n",
    "data = response.json()\n",
    "df = pd.DataFrame(data)\n"
   ]
  },
  {
   "cell_type": "markdown",
   "metadata": {},
   "source": [
    "Con los datos obtenidos de los cambios porcentuales en las distintas instancias de tiempo, eliminamos las monedas \"StableCoin\" que no nos interesan para nuestra cartera. "
   ]
  },
  {
   "cell_type": "code",
   "execution_count": 71,
   "metadata": {},
   "outputs": [],
   "source": [
    "price_changes = df[['price_change_percentage_1h_in_currency', 'price_change_percentage_24h_in_currency', 'price_change_percentage_7d_in_currency', 'price_change_percentage_30d_in_currency']]\n",
    "volatilidad = price_changes.std(axis=1)\n",
    "df['volatility'] = volatilidad\n",
    "mask = df['volatility'] < 0.3\n",
    "df = df[~mask]"
   ]
  },
  {
   "cell_type": "markdown",
   "metadata": {},
   "source": [
    "Eliminamos los outliers de volatilidad alta. Para evitar cryptomonedas de alto riesgo."
   ]
  },
  {
   "cell_type": "code",
   "execution_count": 72,
   "metadata": {},
   "outputs": [],
   "source": [
    "Q1 = df['volatility'].quantile(0.25)\n",
    "Q3 = df['volatility'].quantile(0.75)\n",
    "\n",
    "IQR = Q3 - Q1\n",
    "umbral = Q3 + 1.5 * IQR\n",
    "\n",
    "df = df[df['volatility'] <= umbral]"
   ]
  },
  {
   "cell_type": "markdown",
   "metadata": {},
   "source": [
    "Limitamos las criptomonedas a las primeras 30 con mayor capital de mercado. "
   ]
  },
  {
   "cell_type": "code",
   "execution_count": 73,
   "metadata": {},
   "outputs": [],
   "source": [
    "df = df.sort_values(by='market_cap', ascending=False).head(30)"
   ]
  },
  {
   "cell_type": "markdown",
   "metadata": {},
   "source": [
    "Obtenemos los porcentajes de cambio en el precio del ultimo año."
   ]
  },
  {
   "cell_type": "code",
   "execution_count": 74,
   "metadata": {},
   "outputs": [],
   "source": [
    "import time\n",
    "\n",
    "price_changes = {}\n",
    "\n",
    "for index, row in df.iterrows():\n",
    "    crypto_id = row['id']\n",
    "    time.sleep(3)  \n",
    "\n",
    "    historical_data_response = requests.get(f'https://api.coingecko.com/api/v3/coins/{crypto_id}/market_chart', params={\n",
    "        'vs_currency': 'usd',\n",
    "        'days': '365',\n",
    "        'interval': 'daily'\n",
    "    })\n",
    "\n",
    "    if historical_data_response.status_code == 200:\n",
    "        historical_data = historical_data_response.json()\n",
    "        \n",
    "        if 'prices' in historical_data and len(historical_data['prices']) > 0:\n",
    "            initial_price = historical_data['prices'][0][1]\n",
    "            final_price = historical_data['prices'][-1][1]\n",
    "            \n",
    "            price_change_percentage = ((final_price - initial_price) / initial_price) * 100\n",
    "            price_changes[crypto_id] = price_change_percentage\n",
    "\n",
    "df['price_change_percentage_1y'] = df['id'].map(price_changes)"
   ]
  },
  {
   "cell_type": "code",
   "execution_count": 75,
   "metadata": {},
   "outputs": [],
   "source": [
    "missing_data_ids = df[df['price_change_percentage_1y'].isna()]['id'].tolist()\n",
    "\n",
    "for crypto_id in missing_data_ids:\n",
    "    time.sleep(3) \n",
    "\n",
    "    historical_data_response = requests.get(f'https://api.coingecko.com/api/v3/coins/{crypto_id}/market_chart', params={\n",
    "        'vs_currency': 'usd',\n",
    "        'days': '365',\n",
    "        'interval': 'daily'\n",
    "    })\n",
    "\n",
    "    if historical_data_response.status_code == 200:\n",
    "        historical_data = historical_data_response.json()\n",
    "\n",
    "        if 'prices' in historical_data and len(historical_data['prices']) > 0:\n",
    "            initial_price = historical_data['prices'][0][1]\n",
    "            final_price = historical_data['prices'][-1][1]\n",
    "\n",
    "            price_change_percentage = ((final_price - initial_price) / initial_price) * 100\n",
    "            price_changes[crypto_id] = price_change_percentage\n",
    "\n",
    "\n",
    "df['price_change_percentage_1y'] = df['id'].map(price_changes)\n",
    "remaining_missing = df['price_change_percentage_1y'].isna().sum()"
   ]
  },
  {
   "cell_type": "markdown",
   "metadata": {},
   "source": [
    "Obtengo las 5 con mayor market cap y 3 con el mejor rendimiento en el ultimo año."
   ]
  },
  {
   "cell_type": "code",
   "execution_count": 76,
   "metadata": {},
   "outputs": [],
   "source": [
    "mayor_market_cap = df.sort_values(by='market_cap', ascending=False).head(5)\n",
    "mejor_performance = df[~df['id'].isin(mayor_market_cap['id'])].nlargest(3, 'price_change_percentage_1y')\n",
    "cryptos_elejidas = pd.concat([mayor_market_cap, mejor_performance], ignore_index=True)\n",
    "cryptos_elejidas = cryptos_elejidas.drop(['volatility','price_change_percentage_1y'],axis=1)"
   ]
  },
  {
   "cell_type": "markdown",
   "metadata": {},
   "source": [
    "Busco las cryptos en tendencia."
   ]
  },
  {
   "cell_type": "code",
   "execution_count": 77,
   "metadata": {},
   "outputs": [
    {
     "name": "stdout",
     "output_type": "stream",
     "text": [
      "1. BeNFT Solutions (BEAI)\n",
      "2. Hedera (HBAR)\n",
      "3. HarryPotterObamaSonic10Inu (ETH) (BITCOIN)\n",
      "4. Unibot (UNIBOT)\n",
      "5. Rollbit Coin (RLB)\n",
      "6. Pepe (PEPE)\n",
      "7. Vulcan Forged (PYR)\n",
      "8. Worldcoin (WLD)\n"
     ]
    }
   ],
   "source": [
    "url = \"https://api.coingecko.com/api/v3/search/trending\"\n",
    "\n",
    "response = requests.get(url)\n",
    "\n",
    "if response.status_code == 200:\n",
    "    trending_coins = response.json().get(\"coins\")\n",
    "    for index, coin in enumerate(trending_coins):\n",
    "        coin_name = coin.get(\"item\").get(\"name\")\n",
    "        coin_symbol = coin.get(\"item\").get(\"symbol\")\n",
    "        print(f\"{index + 1}. {coin_name} ({coin_symbol})\")\n",
    "else:\n",
    "    print(\"Error al obtener los datos de tendencia de las monedas.\")\n"
   ]
  },
  {
   "cell_type": "markdown",
   "metadata": {},
   "source": [
    "Obtengo los datos de las cryptos en tendencia."
   ]
  },
  {
   "cell_type": "code",
   "execution_count": 80,
   "metadata": {},
   "outputs": [
    {
     "name": "stdout",
     "output_type": "stream",
     "text": [
      "[{'id': 'benft-solutions', 'symbol': 'beai', 'name': 'BeNFT Solutions', 'image': 'https://assets.coingecko.com/coins/images/30669/large/BeAI-Coin.png?1686210015', 'current_price': 12.34, 'market_cap': 20986872, 'market_cap_rank': 662, 'fully_diluted_valuation': 86409121, 'total_volume': 250612, 'high_24h': 14.28, 'low_24h': 11.75, 'price_change_24h': -0.9715961068858565, 'price_change_percentage_24h': -7.30056, 'market_cap_change_24h': -1636433.0264952332, 'market_cap_change_percentage_24h': -7.2334, 'circulating_supply': 1700145.796674536, 'total_supply': 7000000.0, 'max_supply': 7000000.0, 'ath': 17.65, 'ath_change_percentage': -30.04773, 'ath_date': '2023-08-08T05:21:55.036Z', 'atl': 1.69, 'atl_change_percentage': 629.4844, 'atl_date': '2023-06-21T23:28:17.791Z', 'roi': None, 'last_updated': '2023-08-15T01:19:29.045Z', 'price_change_percentage_1h_in_currency': -1.8268225288444926, 'price_change_percentage_24h_in_currency': -7.300564644016916, 'price_change_percentage_30d_in_currency': 216.13565793858024, 'price_change_percentage_7d_in_currency': -17.52659390549155}]\n",
      "[{'id': 'hedera-hashgraph', 'symbol': 'hbar', 'name': 'Hedera', 'image': 'https://assets.coingecko.com/coins/images/3688/large/hbar.png?1637045634', 'current_price': 0.067152, 'market_cap': 2213396620, 'market_cap_rank': 31, 'fully_diluted_valuation': 3357620810, 'total_volume': 292947081, 'high_24h': 0.067256, 'low_24h': 0.060473, 'price_change_24h': 0.00620503, 'price_change_percentage_24h': 10.18096, 'market_cap_change_24h': 204510524, 'market_cap_change_percentage_24h': 10.18029, 'circulating_supply': 32960788984.848, 'total_supply': 50000000000.0, 'max_supply': 50000000000.0, 'ath': 0.569229, 'ath_change_percentage': -88.24729, 'ath_date': '2021-09-15T10:40:28.318Z', 'atl': 0.00986111, 'atl_change_percentage': 578.42085, 'atl_date': '2020-01-02T17:30:24.852Z', 'roi': None, 'last_updated': '2023-08-15T01:20:19.740Z', 'price_change_percentage_1h_in_currency': 3.4115053955362225, 'price_change_percentage_24h_in_currency': 10.180957218518174, 'price_change_percentage_30d_in_currency': 28.278657849450557, 'price_change_percentage_7d_in_currency': 13.736754533358827}]\n",
      "[{'id': 'harrypotterobamasonic10in', 'symbol': 'bitcoin', 'name': 'HarryPotterObamaSonic10Inu (ETH)', 'image': 'https://assets.coingecko.com/coins/images/30323/large/hpos10i_logo_casino_night-dexview.png?1684117567', 'current_price': 0.158781, 'market_cap': 161629071, 'market_cap_rank': 198, 'fully_diluted_valuation': 161661702, 'total_volume': 14827395, 'high_24h': 0.171419, 'low_24h': 0.114739, 'price_change_24h': 0.04268263, 'price_change_percentage_24h': 36.76426, 'market_cap_change_24h': 46119250, 'market_cap_change_percentage_24h': 39.92669, 'circulating_supply': 999798155.0, 'total_supply': 999798155.0, 'max_supply': 1000000000.0, 'ath': 0.171419, 'ath_change_percentage': -6.17221, 'ath_date': '2023-08-14T23:59:57.572Z', 'atl': 0.00066337, 'atl_change_percentage': 24145.81727, 'atl_date': '2023-05-31T23:11:46.784Z', 'roi': None, 'last_updated': '2023-08-15T01:20:21.889Z', 'price_change_percentage_1h_in_currency': -1.5347972937583843, 'price_change_percentage_24h_in_currency': 36.76426358271202, 'price_change_percentage_30d_in_currency': 268.53161368051957, 'price_change_percentage_7d_in_currency': 78.9765300419413}]\n",
      "[{'id': 'unibot', 'symbol': 'unibot', 'name': 'Unibot', 'image': 'https://assets.coingecko.com/coins/images/30462/large/logonoline_%281%29.png?1687510315', 'current_price': 188.68, 'market_cap': 188976720, 'market_cap_rank': 174, 'fully_diluted_valuation': 188976720, 'total_volume': 10240725, 'high_24h': 191.67, 'low_24h': 168.22, 'price_change_24h': 18.69, 'price_change_percentage_24h': 10.99538, 'market_cap_change_24h': 23041772, 'market_cap_change_percentage_24h': 13.88603, 'circulating_supply': 1000000.0, 'total_supply': 1000000.0, 'max_supply': 1000000.0, 'ath': 205.17, 'ath_change_percentage': -8.07031, 'ath_date': '2023-08-10T00:19:56.809Z', 'atl': 2.46, 'atl_change_percentage': 7553.86796, 'atl_date': '2023-05-22T09:19:33.417Z', 'roi': None, 'last_updated': '2023-08-15T01:20:13.405Z', 'price_change_percentage_1h_in_currency': -0.19540044793129865, 'price_change_percentage_24h_in_currency': 10.995377431233603, 'price_change_percentage_30d_in_currency': 226.48567364178248, 'price_change_percentage_7d_in_currency': 25.824574527745575}]\n",
      "[{'id': 'rollbit-coin', 'symbol': 'rlb', 'name': 'Rollbit Coin', 'image': 'https://assets.coingecko.com/coins/images/24552/large/unziL6wO_400x400.jpg?1648134494', 'current_price': 0.180433, 'market_cap': 589986802, 'market_cap_rank': 72, 'fully_diluted_valuation': 894745919, 'total_volume': 17120887, 'high_24h': 0.188757, 'low_24h': 0.158776, 'price_change_24h': 0.00622202, 'price_change_percentage_24h': 3.57154, 'market_cap_change_24h': 15591147, 'market_cap_change_percentage_24h': 2.71436, 'circulating_supply': 3296951621.59, 'total_supply': 3296951622.0, 'max_supply': 5000000000.0, 'ath': 0.213089, 'ath_change_percentage': -15.65366, 'ath_date': '2023-08-12T14:31:00.633Z', 'atl': 0.00093506, 'atl_change_percentage': 19121.5728, 'atl_date': '2022-07-02T02:46:34.730Z', 'roi': None, 'last_updated': '2023-08-15T01:20:21.614Z', 'price_change_percentage_1h_in_currency': -1.7824511094504998, 'price_change_percentage_24h_in_currency': 3.571537250457192, 'price_change_percentage_30d_in_currency': 111.25451132631143, 'price_change_percentage_7d_in_currency': 70.06095734575626}]\n",
      "[{'id': 'pepe', 'symbol': 'pepe', 'name': 'Pepe', 'image': 'https://assets.coingecko.com/coins/images/29850/large/pepe-token.jpeg?1682922725', 'current_price': 1.4e-06, 'market_cap': 590271709, 'market_cap_rank': 71, 'fully_diluted_valuation': 590271709, 'total_volume': 126374143, 'high_24h': 1.44e-06, 'low_24h': 1.33e-06, 'price_change_24h': 4.2359e-08, 'price_change_percentage_24h': 3.12579, 'market_cap_change_24h': 20599906, 'market_cap_change_percentage_24h': 3.6161, 'circulating_supply': 420690000000000.0, 'total_supply': 420690000000000.0, 'max_supply': 420690000000000.0, 'ath': 4.31e-06, 'ath_change_percentage': -67.39037, 'ath_date': '2023-05-05T16:50:45.302Z', 'atl': 5.5142e-08, 'atl_change_percentage': 2447.09012, 'atl_date': '2023-04-18T02:14:41.591Z', 'roi': None, 'last_updated': '2023-08-15T01:20:23.892Z', 'price_change_percentage_1h_in_currency': -0.4137514105210344, 'price_change_percentage_24h_in_currency': 3.125793077553202, 'price_change_percentage_30d_in_currency': -15.552810037058615, 'price_change_percentage_7d_in_currency': 25.55026198826054}]\n",
      "[{'id': 'vulcan-forged', 'symbol': 'pyr', 'name': 'Vulcan Forged', 'image': 'https://assets.coingecko.com/coins/images/14770/large/1617088937196.png?1619414736', 'current_price': 3.64, 'market_cap': 87558209, 'market_cap_rank': 275, 'fully_diluted_valuation': 183193799, 'total_volume': 16369658, 'high_24h': 3.66, 'low_24h': 3.18, 'price_change_24h': 0.432905, 'price_change_percentage_24h': 13.48457, 'market_cap_change_24h': 10890613, 'market_cap_change_percentage_24h': 14.20498, 'circulating_supply': 23897700.0, 'total_supply': 50000000.0, 'max_supply': 50000000.0, 'ath': 49.24, 'ath_change_percentage': -92.63745, 'ath_date': '2021-12-01T08:38:57.006Z', 'atl': 1.16, 'atl_change_percentage': 211.72281, 'atl_date': '2021-06-22T12:55:49.177Z', 'roi': None, 'last_updated': '2023-08-15T01:20:14.522Z', 'price_change_percentage_1h_in_currency': 1.9877837381743855, 'price_change_percentage_24h_in_currency': 13.484567286728238, 'price_change_percentage_30d_in_currency': 8.920779428519038, 'price_change_percentage_7d_in_currency': 19.314338924050716}]\n",
      "[{'id': 'worldcoin-wld', 'symbol': 'wld', 'name': 'Worldcoin', 'image': 'https://assets.coingecko.com/coins/images/31069/large/worldcoin.jpeg?1690182386', 'current_price': 1.78, 'market_cap': 223581828, 'market_cap_rank': 153, 'fully_diluted_valuation': 17809735147, 'total_volume': 32673054, 'high_24h': 1.81, 'low_24h': 1.75, 'price_change_24h': -0.006312725443047951, 'price_change_percentage_24h': -0.35241, 'market_cap_change_24h': -238580.14100414515, 'market_cap_change_percentage_24h': -0.10659, 'circulating_supply': 125539108.794678, 'total_supply': 10000000000.0, 'max_supply': 10000000000.0, 'ath': 3.3, 'ath_change_percentage': -46.03086, 'ath_date': '2023-07-24T09:20:13.301Z', 'atl': 1.66, 'atl_change_percentage': 7.11413, 'atl_date': '2023-07-24T07:22:41.487Z', 'roi': None, 'last_updated': '2023-08-15T01:21:41.247Z', 'price_change_percentage_1h_in_currency': 1.014224902206739, 'price_change_percentage_24h_in_currency': -0.3524098698312741, 'price_change_percentage_30d_in_currency': None, 'price_change_percentage_7d_in_currency': -11.765532503125817}]\n"
     ]
    }
   ],
   "source": [
    "trending_request = requests.get('https://api.coingecko.com/api/v3/search/trending')\n",
    "trending_data = trending_request.json().get(\"coins\")\n",
    "\n",
    "trending_ids = [coin.get(\"item\").get(\"id\") for coin in trending_data]\n",
    "\n",
    "trending_cryptos = []\n",
    "\n",
    "for ids in trending_ids:\n",
    "    crypto_response = requests.get('https://api.coingecko.com/api/v3/coins/markets', params={\n",
    "        'vs_currency': 'usd',\n",
    "        'ids': ids,\n",
    "        'sparkline': False,\n",
    "        'price_change_percentage': '1h,24h,7d,30d',\n",
    "        'market_volume': 'usd'\n",
    "    })\n",
    "    crypto_data = crypto_response.json()\n",
    "    trending_cryptos.append(crypto_data[0])\n",
    "\n",
    "trending_df = pd.DataFrame(trending_cryptos)\n"
   ]
  },
  {
   "cell_type": "markdown",
   "metadata": {},
   "source": [
    "Extraigo las 2 cryptos en tendencia con mayor market_cap y las incluyo en las cryptos elejidas."
   ]
  },
  {
   "cell_type": "code",
   "execution_count": 81,
   "metadata": {},
   "outputs": [
    {
     "name": "stdout",
     "output_type": "stream",
     "text": [
      "                 id symbol               name  \\\n",
      "0           bitcoin    btc            Bitcoin   \n",
      "1          ethereum    eth           Ethereum   \n",
      "2       binancecoin    bnb                BNB   \n",
      "3            ripple    xrp                XRP   \n",
      "4      staked-ether  steth  Lido Staked Ether   \n",
      "5               okb    okb                OKB   \n",
      "6      bitcoin-cash    bch       Bitcoin Cash   \n",
      "7          litecoin    ltc           Litecoin   \n",
      "8  hedera-hashgraph   hbar             Hedera   \n",
      "9              pepe   pepe               Pepe   \n",
      "\n",
      "                                               image  current_price  \\\n",
      "0  https://assets.coingecko.com/coins/images/1/la...   29423.000000   \n",
      "1  https://assets.coingecko.com/coins/images/279/...    1845.840000   \n",
      "2  https://assets.coingecko.com/coins/images/825/...     240.360000   \n",
      "3  https://assets.coingecko.com/coins/images/44/l...       0.631137   \n",
      "4  https://assets.coingecko.com/coins/images/1344...    1844.590000   \n",
      "5  https://assets.coingecko.com/coins/images/4463...      47.130000   \n",
      "6  https://assets.coingecko.com/coins/images/780/...     229.980000   \n",
      "7  https://assets.coingecko.com/coins/images/2/la...      82.110000   \n",
      "8  https://assets.coingecko.com/coins/images/3688...       0.067152   \n",
      "9  https://assets.coingecko.com/coins/images/2985...       0.000001   \n",
      "\n",
      "     market_cap  market_cap_rank  fully_diluted_valuation  total_volume  \\\n",
      "0  572373108883                1             6.177480e+11  1.233791e+10   \n",
      "1  221770959256                2             2.217710e+11  4.267776e+09   \n",
      "2   36985474289                4             4.807799e+10  2.989700e+08   \n",
      "3   33291058842                5             6.306644e+10  9.761936e+08   \n",
      "4   14951530822                7             1.495153e+10  4.957519e+06   \n",
      "5    2827559424               27             1.413780e+10  4.018172e+06   \n",
      "6    4474799130               19             4.824834e+09  1.337975e+08   \n",
      "7    6037815164               15             6.896357e+09  3.127372e+08   \n",
      "8    2213396620               31             3.357621e+09  2.929471e+08   \n",
      "9     590271709               71             5.902717e+08  1.263741e+08   \n",
      "\n",
      "       high_24h  ...                  ath_date           atl  \\\n",
      "0  29653.000000  ...  2021-11-10T14:24:11.849Z  6.781000e+01   \n",
      "1   1854.610000  ...  2021-11-10T14:24:19.604Z  4.329790e-01   \n",
      "2    241.020000  ...  2021-05-10T07:24:17.097Z  3.981770e-02   \n",
      "3      0.635508  ...  2018-01-07T00:00:00.000Z  2.686210e-03   \n",
      "4   1853.330000  ...  2021-11-10T14:40:47.256Z  4.829000e+02   \n",
      "5     47.200000  ...  2023-02-18T01:21:37.582Z  5.806080e-01   \n",
      "6    230.620000  ...  2017-12-20T00:00:00.000Z  7.693000e+01   \n",
      "7     82.950000  ...  2021-05-10T03:13:07.904Z  1.150000e+00   \n",
      "8      0.067256  ...  2021-09-15T10:40:28.318Z  9.861110e-03   \n",
      "9      0.000001  ...  2023-05-05T16:50:45.302Z  5.514200e-08   \n",
      "\n",
      "   atl_change_percentage                  atl_date  \\\n",
      "0            43253.47162  2013-07-06T00:00:00.000Z   \n",
      "1           426185.84228  2015-10-20T00:00:00.000Z   \n",
      "2           603053.82176  2017-10-19T00:00:00.000Z   \n",
      "3            23406.50460  2014-05-22T00:00:00.000Z   \n",
      "4              281.81673  2020-12-22T04:08:21.854Z   \n",
      "5             8018.73850  2019-01-14T00:00:00.000Z   \n",
      "6              198.46586  2018-12-16T00:00:00.000Z   \n",
      "7             7043.93358  2015-01-14T00:00:00.000Z   \n",
      "8              578.42085  2020-01-02T17:30:24.852Z   \n",
      "9             2447.09012  2023-04-18T02:14:41.591Z   \n",
      "\n",
      "                                                 roi  \\\n",
      "0                                               None   \n",
      "1  {'times': 82.8848221486723, 'currency': 'btc',...   \n",
      "2                                               None   \n",
      "3                                               None   \n",
      "4                                               None   \n",
      "5                                               None   \n",
      "6                                               None   \n",
      "7                                               None   \n",
      "8                                               None   \n",
      "9                                               None   \n",
      "\n",
      "               last_updated  price_change_percentage_1h_in_currency  \\\n",
      "0  2023-08-15T01:16:27.228Z                                0.040002   \n",
      "1  2023-08-15T01:16:23.825Z                                0.067007   \n",
      "2  2023-08-15T01:16:30.923Z                                0.092423   \n",
      "3  2023-08-15T01:16:25.868Z                               -0.210236   \n",
      "4  2023-08-15T01:16:29.930Z                                0.099514   \n",
      "5  2023-08-15T01:16:16.551Z                               -0.052407   \n",
      "6  2023-08-15T01:16:25.201Z                                0.052929   \n",
      "7  2023-08-15T01:16:31.767Z                                0.001112   \n",
      "8  2023-08-15T01:20:19.740Z                                3.411505   \n",
      "9  2023-08-15T01:20:23.892Z                               -0.413751   \n",
      "\n",
      "   price_change_percentage_24h_in_currency  \\\n",
      "0                                 0.522849   \n",
      "1                                 0.275923   \n",
      "2                                -0.002244   \n",
      "3                                 0.959989   \n",
      "4                                 0.295207   \n",
      "5                                 0.510410   \n",
      "6                                 0.489499   \n",
      "7                                -0.037429   \n",
      "8                                10.180957   \n",
      "9                                 3.125793   \n",
      "\n",
      "   price_change_percentage_30d_in_currency  \\\n",
      "0                                -2.929985   \n",
      "1                                -4.573073   \n",
      "2                                -4.441781   \n",
      "3                               -11.943226   \n",
      "4                                -4.550877   \n",
      "5                                 8.300439   \n",
      "6                               -10.625726   \n",
      "7                               -13.415586   \n",
      "8                                28.278658   \n",
      "9                               -15.552810   \n",
      "\n",
      "   price_change_percentage_7d_in_currency  \n",
      "0                                0.850744  \n",
      "1                                0.770856  \n",
      "2                               -0.686961  \n",
      "3                                1.740553  \n",
      "4                                0.960109  \n",
      "5                                4.050432  \n",
      "6                               -4.025787  \n",
      "7                               -0.192002  \n",
      "8                               13.736755  \n",
      "9                               25.550262  \n",
      "\n",
      "[10 rows x 30 columns]\n"
     ]
    }
   ],
   "source": [
    "trending_df = trending_df.sort_values(by='market_cap', ascending=False)\n",
    "\n",
    "trending_df = trending_df.head(2)\n",
    "\n",
    "cryptos_elejidas = pd.concat([cryptos_elejidas, trending_df])\n",
    "cryptos_elejidas = cryptos_elejidas.reset_index(drop=True)\n",
    "\n",
    "print(cryptos_elejidas)\n"
   ]
  },
  {
   "cell_type": "code",
   "execution_count": 82,
   "metadata": {},
   "outputs": [
    {
     "data": {
      "text/html": [
       "<div>\n",
       "<style scoped>\n",
       "    .dataframe tbody tr th:only-of-type {\n",
       "        vertical-align: middle;\n",
       "    }\n",
       "\n",
       "    .dataframe tbody tr th {\n",
       "        vertical-align: top;\n",
       "    }\n",
       "\n",
       "    .dataframe thead th {\n",
       "        text-align: right;\n",
       "    }\n",
       "</style>\n",
       "<table border=\"1\" class=\"dataframe\">\n",
       "  <thead>\n",
       "    <tr style=\"text-align: right;\">\n",
       "      <th></th>\n",
       "      <th>id</th>\n",
       "      <th>symbol</th>\n",
       "      <th>name</th>\n",
       "      <th>image</th>\n",
       "      <th>current_price</th>\n",
       "      <th>market_cap</th>\n",
       "      <th>market_cap_rank</th>\n",
       "      <th>fully_diluted_valuation</th>\n",
       "      <th>total_volume</th>\n",
       "      <th>high_24h</th>\n",
       "      <th>...</th>\n",
       "      <th>ath_date</th>\n",
       "      <th>atl</th>\n",
       "      <th>atl_change_percentage</th>\n",
       "      <th>atl_date</th>\n",
       "      <th>roi</th>\n",
       "      <th>last_updated</th>\n",
       "      <th>price_change_percentage_1h_in_currency</th>\n",
       "      <th>price_change_percentage_24h_in_currency</th>\n",
       "      <th>price_change_percentage_30d_in_currency</th>\n",
       "      <th>price_change_percentage_7d_in_currency</th>\n",
       "    </tr>\n",
       "  </thead>\n",
       "  <tbody>\n",
       "    <tr>\n",
       "      <th>1</th>\n",
       "      <td>hedera-hashgraph</td>\n",
       "      <td>hbar</td>\n",
       "      <td>Hedera</td>\n",
       "      <td>https://assets.coingecko.com/coins/images/3688...</td>\n",
       "      <td>0.067152</td>\n",
       "      <td>2213396620</td>\n",
       "      <td>31</td>\n",
       "      <td>3357620810</td>\n",
       "      <td>292947081</td>\n",
       "      <td>0.067256</td>\n",
       "      <td>...</td>\n",
       "      <td>2021-09-15T10:40:28.318Z</td>\n",
       "      <td>9.861110e-03</td>\n",
       "      <td>578.42085</td>\n",
       "      <td>2020-01-02T17:30:24.852Z</td>\n",
       "      <td>None</td>\n",
       "      <td>2023-08-15T01:20:19.740Z</td>\n",
       "      <td>3.411505</td>\n",
       "      <td>10.180957</td>\n",
       "      <td>28.278658</td>\n",
       "      <td>13.736755</td>\n",
       "    </tr>\n",
       "    <tr>\n",
       "      <th>5</th>\n",
       "      <td>pepe</td>\n",
       "      <td>pepe</td>\n",
       "      <td>Pepe</td>\n",
       "      <td>https://assets.coingecko.com/coins/images/2985...</td>\n",
       "      <td>0.000001</td>\n",
       "      <td>590271709</td>\n",
       "      <td>71</td>\n",
       "      <td>590271709</td>\n",
       "      <td>126374143</td>\n",
       "      <td>0.000001</td>\n",
       "      <td>...</td>\n",
       "      <td>2023-05-05T16:50:45.302Z</td>\n",
       "      <td>5.514200e-08</td>\n",
       "      <td>2447.09012</td>\n",
       "      <td>2023-04-18T02:14:41.591Z</td>\n",
       "      <td>None</td>\n",
       "      <td>2023-08-15T01:20:23.892Z</td>\n",
       "      <td>-0.413751</td>\n",
       "      <td>3.125793</td>\n",
       "      <td>-15.552810</td>\n",
       "      <td>25.550262</td>\n",
       "    </tr>\n",
       "  </tbody>\n",
       "</table>\n",
       "<p>2 rows × 30 columns</p>\n",
       "</div>"
      ],
      "text/plain": [
       "                 id symbol    name  \\\n",
       "1  hedera-hashgraph   hbar  Hedera   \n",
       "5              pepe   pepe    Pepe   \n",
       "\n",
       "                                               image  current_price  \\\n",
       "1  https://assets.coingecko.com/coins/images/3688...       0.067152   \n",
       "5  https://assets.coingecko.com/coins/images/2985...       0.000001   \n",
       "\n",
       "   market_cap  market_cap_rank  fully_diluted_valuation  total_volume  \\\n",
       "1  2213396620               31               3357620810     292947081   \n",
       "5   590271709               71                590271709     126374143   \n",
       "\n",
       "   high_24h  ...                  ath_date           atl  \\\n",
       "1  0.067256  ...  2021-09-15T10:40:28.318Z  9.861110e-03   \n",
       "5  0.000001  ...  2023-05-05T16:50:45.302Z  5.514200e-08   \n",
       "\n",
       "   atl_change_percentage                  atl_date   roi  \\\n",
       "1              578.42085  2020-01-02T17:30:24.852Z  None   \n",
       "5             2447.09012  2023-04-18T02:14:41.591Z  None   \n",
       "\n",
       "               last_updated  price_change_percentage_1h_in_currency  \\\n",
       "1  2023-08-15T01:20:19.740Z                                3.411505   \n",
       "5  2023-08-15T01:20:23.892Z                               -0.413751   \n",
       "\n",
       "   price_change_percentage_24h_in_currency  \\\n",
       "1                                10.180957   \n",
       "5                                 3.125793   \n",
       "\n",
       "   price_change_percentage_30d_in_currency  \\\n",
       "1                                28.278658   \n",
       "5                               -15.552810   \n",
       "\n",
       "   price_change_percentage_7d_in_currency  \n",
       "1                               13.736755  \n",
       "5                               25.550262  \n",
       "\n",
       "[2 rows x 30 columns]"
      ]
     },
     "execution_count": 82,
     "metadata": {},
     "output_type": "execute_result"
    }
   ],
   "source": [
    "trending_df"
   ]
  },
  {
   "cell_type": "markdown",
   "metadata": {},
   "source": [
    "Armo un csv con las cryptos elejidas."
   ]
  },
  {
   "cell_type": "code",
   "execution_count": 83,
   "metadata": {},
   "outputs": [],
   "source": [
    "cryptos_elejidas.to_csv('cryptos_elejidas.csv', index=False)"
   ]
  }
 ],
 "metadata": {
  "kernelspec": {
   "display_name": "Python 3",
   "language": "python",
   "name": "python3"
  },
  "language_info": {
   "codemirror_mode": {
    "name": "ipython",
    "version": 3
   },
   "file_extension": ".py",
   "mimetype": "text/x-python",
   "name": "python",
   "nbconvert_exporter": "python",
   "pygments_lexer": "ipython3",
   "version": "3.10.11"
  },
  "orig_nbformat": 4
 },
 "nbformat": 4,
 "nbformat_minor": 2
}
